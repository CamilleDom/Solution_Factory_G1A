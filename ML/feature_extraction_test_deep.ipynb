{
 "cells": [
  {
   "cell_type": "code",
   "execution_count": 3,
   "id": "c4354381",
   "metadata": {},
   "outputs": [
    {
     "name": "stdout",
     "output_type": "stream",
     "text": [
      "✅ Saved test features to features\\features_test.csv with 100 images.\n"
     ]
    }
   ],
   "source": [
    "import os\n",
    "import numpy as np\n",
    "import pandas as pd\n",
    "import cv2\n",
    "from tensorflow.keras.applications import MobileNetV2\n",
    "from tensorflow.keras.applications.mobilenet_v2 import preprocess_input\n",
    "from tensorflow.keras.preprocessing.image import img_to_array\n",
    "from tensorflow.keras.models import Model\n",
    "\n",
    "# Load MobileNetV2 model\n",
    "base_model = MobileNetV2(weights='imagenet', include_top=False, pooling='avg', input_shape=(224, 224, 3))\n",
    "model = Model(inputs=base_model.input, outputs=base_model.output)\n",
    "\n",
    "# Path to test images\n",
    "base_path = os.path.join('..', 'Data', 'test')\n",
    "output_path = os.path.join('features', 'features_test.csv')\n",
    "\n",
    "def preprocess_image(image_path):\n",
    "    try:\n",
    "        image = cv2.imread(image_path)\n",
    "        if image is None:\n",
    "            raise ValueError(\"Image not loaded correctly.\")\n",
    "        image = cv2.cvtColor(image, cv2.COLOR_BGR2RGB)\n",
    "        image = cv2.resize(image, (224, 224))\n",
    "        image = img_to_array(image)\n",
    "        image = preprocess_input(image)\n",
    "        return image\n",
    "    except Exception as e:\n",
    "        print(f\"Error processing {image_path}: {e}\")\n",
    "        return None\n",
    "\n",
    "# Extract features\n",
    "test_features = []\n",
    "for fname in os.listdir(base_path):\n",
    "    if fname.lower().endswith(('.jpg', '.jpeg', '.png')):\n",
    "        img_path = os.path.join(base_path, fname)\n",
    "        image = preprocess_image(img_path)\n",
    "        if image is not None:\n",
    "            image = np.expand_dims(image, axis=0)\n",
    "            feature_vector = model.predict(image, verbose=0).flatten()\n",
    "            test_features.append({\n",
    "                'file': fname,\n",
    "                **{f'feat_{i}': float(v) for i, v in enumerate(feature_vector)}\n",
    "            })\n",
    "\n",
    "# Save test features\n",
    "df_test = pd.DataFrame(test_features)\n",
    "df_test.to_csv(output_path, index=False)\n",
    "print(f\"✅ Saved test features to {output_path} with {len(df_test)} images.\")\n"
   ]
  }
 ],
 "metadata": {
  "kernelspec": {
   "display_name": "base",
   "language": "python",
   "name": "python3"
  },
  "language_info": {
   "codemirror_mode": {
    "name": "ipython",
    "version": 3
   },
   "file_extension": ".py",
   "mimetype": "text/x-python",
   "name": "python",
   "nbconvert_exporter": "python",
   "pygments_lexer": "ipython3",
   "version": "3.12.3"
  }
 },
 "nbformat": 4,
 "nbformat_minor": 5
}
